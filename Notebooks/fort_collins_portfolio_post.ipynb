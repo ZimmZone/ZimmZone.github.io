{
 "cells": [
  {
   "cell_type": "code",
   "execution_count": 9,
   "metadata": {},
   "outputs": [],
   "source": [
    "import matplotlib.pyplot as plt\n",
    "import matplotlib.image as mpimg"
   ]
  },
  {
   "cell_type": "markdown",
   "metadata": {},
   "source": [
    "# Redlining in Fort Collins, Colorado\n",
    "\n",
    "<img src=\"/Users/erinzimmerman/miniconda3/earth data analytics/fundamentals-04-redlining-ZimmZone/notebooks/images/CO_FortCollins_19XX(1).jpg\" alt=\"Historical Map of Redlining in Fort Collins, CO\" width=\"800\">\n",
    "  \n",
    "  \"Although perhaps the best-known example of this is the residential segregation imposed upon African Americans, both housing discrimination and its long-term repercussions have impacted and continue to affect Black, Hispanic, Asian American, Indigenous, and other non-White/Anglo people, as well as women, unmarried people, single parents, Jewish people, and LGBTQIA+ individuals\" [McDoux Preservation LLC, N.D.](https://www.fcgov.com/historicpreservation/files/fc-2-housing.pdf). \n",
    "\n",
    "  In 1903, Fort Collins contained an area known as the 'Negro quarter' that was located next to the sugar factory. The areas around the sugar factory, Buckingham, Andersonville, and Alta Vista, were all constructed to house immigrant workers. These neighborhoods have consistently lagged behind other neighborhoods when receiving upgrades to services [Dunn 2015](https://www.northerncoloradohistory.com/racism-in-foco/).\n",
    "  \n",
    "  \"In 1929, Fort Collins passed its first zoning ordinance to restrict land use; it divided the\n",
    "city into three residential zones, two commercial zones, and one industrial zone\" [McDoux Preservation LLC, N.D.](https://www.fcgov.com/historicpreservation/files/fc-2-housing.pdf). Neighborhoods in the Northwest of Fort Collins, which contained the majority of African American and Hispanic residents, were zoned for more intensive uses. Neighborhoods such as Slade Acres Subdivision and Circle Drive had covenants that restricted access and ownership to white individuals only. \n",
    "\n",
    "This analysis was to determine if historcal racism in the form of formal or informal redlining still impacts the presence of healthy vegitation in Fort Collins. Lack of access vegetation and greenspace has been linked to reductions in physical and mental health [Jiang, Larsen, and Sullivan, 2020](https://pmc.ncbi.nlm.nih.gov/articles/PMC7313084/)"
   ]
  },
  {
   "cell_type": "markdown",
   "metadata": {},
   "source": [
    "## Data Discription\n",
    "\n",
    "Redlining data was drawn from the University of Richmond [Mapping Inequality Database](https://www.example.com), which maintains a redlining database. Redlining was a practice of denying access to morgages to individuals based upon their race. It is \"a system of mortgage lending and residential property insurance that was effectively closed to minority Americans; and encouraged the rise of municipal zoning, which has perpetuated racial and class divides\" [McDoux Preservation LLC, N.D., p. 2-3](https://www.fcgov.com/historicpreservation/files/fc-2-housing.pdf) During the late 1930s and 1940s the Home Owner's Loan Corporation graded areas on an A-D scale in terms of investments or 'riskiness' for banks, and other lenders: areas with an 'A' grade were considered 'highly desirable', areas with a 'D' grade were considered 'Hazardous'. All scans of maps and areas are descriptions in the public domain and are drawn from the [City Survey Files, 1935 - 1940](https://dsl.richmond.edu/panorama/redlining/data) at the National Archives.  \n",
    "\n",
    "Areas with African Americans or, to a lesser extent, immirgrants or Jewish individuals, were deemed as a threat to the monetary 'value' of that areas. Redlining was a legal practice that greatly impacted the wealth, heath, and overall wellbeing of racial groups in the United States. \n",
    "\n",
    "Data to understand vegetation health in Fort Collins downloaded as multispectral raster data from the Harmonized Landsat Sentinel 30m dataset (HLSL30), which is a combination of data taken by the NASA Landsat missions and the European Space Agency (ESA) Sentinel-2 mission. Data was downloaded from the earthaccess website for July 29, 2024, as this day provided multispectral data with limited cloud cover."
   ]
  },
  {
   "cell_type": "markdown",
   "metadata": {},
   "source": [
    "# NDVI and Redlining Maps of Fort Collins, Colorado"
   ]
  },
  {
   "cell_type": "markdown",
   "metadata": {},
   "source": [
    "<img src=\"/Users/erinzimmerman/miniconda3/earth data analytics/fundamentals-04-redlining-ZimmZone/notebooks/images/NDVI_redlining.jpg\" alt=\"Description\" width=\"800\">\n"
   ]
  },
  {
   "cell_type": "markdown",
   "metadata": {},
   "source": [
    "## Methods Discription\n",
    "\n",
    "Multispectral data for Fort Collins, Colorado, was downloaded and then processes to remove clouds or cloud shadows. Spectral bands were extracted and the red and nir bands were used to determine the NDVI of the area - which determines the presence and health of the vegetation in the area. The zonal statistics for each redlined areas were then calcuated and compared to the NDVI data to determine if there was any correlation between historically redlined areas and the prevelence of healthy vegetation today. \n",
    "\n",
    "For the complete code and analysis method, [refer to the Fort Collins Redlining Notebook](/Users/erinzimmerman/miniconda3/earth data analytics/fundamentals-04-redlining-ZimmZone/notebooks/Fort Collins Redlining Portfolio Notebook.ipynb)\n"
   ]
  },
  {
   "cell_type": "markdown",
   "metadata": {},
   "source": [
    "## Historically Redlined Areas of Fort Collins have a lower level of healthy vegatation compared to other areas. \n",
    "\n",
    "When the maps are compared there is a clear correlation between the areas that were considered lower 'grade' - in this case fourth or third grade aread in the northeast of the city, and a lack of healthy vegetation. "
   ]
  }
 ],
 "metadata": {
  "kernelspec": {
   "display_name": "earth-analytics-python",
   "language": "python",
   "name": "python3"
  },
  "language_info": {
   "codemirror_mode": {
    "name": "ipython",
    "version": 3
   },
   "file_extension": ".py",
   "mimetype": "text/x-python",
   "name": "python",
   "nbconvert_exporter": "python",
   "pygments_lexer": "ipython3",
   "version": "3.11.10"
  }
 },
 "nbformat": 4,
 "nbformat_minor": 2
}
